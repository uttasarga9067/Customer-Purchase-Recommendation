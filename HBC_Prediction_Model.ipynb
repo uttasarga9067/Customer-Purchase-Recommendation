{
 "cells": [
  {
   "cell_type": "markdown",
   "metadata": {},
   "source": [
    "# HBC Prediction & Recommendation Model"
   ]
  },
  {
   "cell_type": "markdown",
   "metadata": {},
   "source": [
    " ### This Model is developed using PySpark and the Motivation behind this Model is to predict the probablity that the Customer will buy the product or buy a specific's brand product that they have already purchased before."
   ]
  },
  {
   "cell_type": "markdown",
   "metadata": {},
   "source": [
    "## Importing the Necessary Libraries"
   ]
  },
  {
   "cell_type": "code",
   "execution_count": 1,
   "metadata": {
    "collapsed": true
   },
   "outputs": [],
   "source": [
    "import pyspark\n",
    "from pyspark import SparkContext\n",
    "from pyspark.sql import SparkSession\n",
    "from pyspark.sql import SQLContext"
   ]
  },
  {
   "cell_type": "code",
   "execution_count": 2,
   "metadata": {
    "collapsed": true
   },
   "outputs": [],
   "source": [
    "file_path = 'C:/Users/uttas/Desktop/Resume/HBC/Customer_Tran_Sample.csv'"
   ]
  },
  {
   "cell_type": "code",
   "execution_count": 3,
   "metadata": {
    "collapsed": true
   },
   "outputs": [],
   "source": [
    "sdf = spark.read.csv(file_path, header=True, inferSchema=True)"
   ]
  },
  {
   "cell_type": "code",
   "execution_count": 4,
   "metadata": {
    "collapsed": false
   },
   "outputs": [],
   "source": [
    "from datetime import timedelta\n",
    "import pandas as pd"
   ]
  },
  {
   "cell_type": "markdown",
   "metadata": {},
   "source": [
    "## EXPLORATORY DATA ANALYSIS"
   ]
  },
  {
   "cell_type": "code",
   "execution_count": 5,
   "metadata": {
    "collapsed": false
   },
   "outputs": [],
   "source": [
    "spark.conf.set(\"spark.sql.execution.arrow.enabled\", \"true\")"
   ]
  },
  {
   "cell_type": "code",
   "execution_count": 6,
   "metadata": {
    "collapsed": false
   },
   "outputs": [
    {
     "name": "stdout",
     "output_type": "stream",
     "text": [
      "+--------------------+-------------------+---------+--------+----------+------+---------+\n",
      "|         CUSTOMER_ID|            TRAN_DT|   UPC_ID|ITEM_QTY|DOLLAR_AMT|DIV_CD| BRAND_ID|\n",
      "+--------------------+-------------------+---------+--------+----------+------+---------+\n",
      "|723d45afb1ae93e9e...|2018-11-27 00:00:00|UPC_10165|       2|    407.06|     8| BRAND_77|\n",
      "|33b9301f1d4a6df09...|2017-12-15 00:00:00|UPC_19768|       1|      18.1|     8|BRAND_132|\n",
      "|2aa43189e547e4f8c...|2017-12-23 00:00:00|UPC_11067|       1|     31.67|     8| BRAND_85|\n",
      "|92d970aefc6bfead8...|2018-12-06 00:00:00|UPC_15119|       3|    115.77|     8| BRAND_99|\n",
      "|8db5209a423f272bc...|2018-04-24 00:00:00| UPC_8131|       1|     39.81|     8|BRAND_124|\n",
      "|a1b46827742ff2e66...|2019-11-02 00:00:00|UPC_10203|       1|     91.74|     8| BRAND_77|\n",
      "|a339330079c7b6f47...|2019-08-12 00:00:00| UPC_7200|       1|     42.91|     8| BRAND_22|\n",
      "|63503d2c4307ace47...|2020-01-23 00:00:00| UPC_8294|       1|     37.48|     8|BRAND_124|\n",
      "|6d8feb66efcd0587b...|2019-10-20 00:00:00|UPC_17546|       1|     49.75|     8| BRAND_52|\n",
      "|34e1038deae017401...|2018-08-26 00:00:00|UPC_16584|       1|    274.51|     8| BRAND_41|\n",
      "|34e1038deae017401...|2018-08-26 00:00:00|UPC_16584|       1|    274.51|     8| BRAND_41|\n",
      "|937315aec41314efd...|2019-03-01 00:00:00| UPC_4204|       1|     41.36|     8| BRAND_96|\n",
      "|e499aae46b026838a...|2018-09-14 00:00:00|UPC_13912|       1|     57.63|     8|BRAND_140|\n",
      "|e499aae46b026838a...|2018-09-14 00:00:00| UPC_9455|       1|     55.31|     8| BRAND_81|\n",
      "|f0108c1e4ed69c758...|2019-06-14 00:00:00|UPC_20966|       1|     54.17|     8| BRAND_30|\n",
      "|f0108c1e4ed69c758...|2019-06-14 00:00:00|UPC_24645|       1|     34.39|     8| BRAND_33|\n",
      "|880b366c4bfbd9086...|2018-09-13 00:00:00|UPC_19936|       1|     56.57|     8| BRAND_30|\n",
      "|880b366c4bfbd9086...|2018-09-13 00:00:00|UPC_20696|       1|     50.27|     8| BRAND_30|\n",
      "|b228cb678c197331d...|2020-02-25 00:00:00| UPC_8354|       1|     66.94|     8|BRAND_124|\n",
      "|740665301b9a6b689...|2020-06-22 00:00:00|UPC_35081|       1|     56.55|     8| BRAND_98|\n",
      "+--------------------+-------------------+---------+--------+----------+------+---------+\n",
      "only showing top 20 rows\n",
      "\n"
     ]
    }
   ],
   "source": [
    "sdf.show()"
   ]
  },
  {
   "cell_type": "code",
   "execution_count": 5,
   "metadata": {
    "collapsed": false
   },
   "outputs": [
    {
     "name": "stdout",
     "output_type": "stream",
     "text": [
      "root\n",
      " |-- CUSTOMER_ID: string (nullable = true)\n",
      " |-- TRAN_DT: timestamp (nullable = true)\n",
      " |-- UPC_ID: string (nullable = true)\n",
      " |-- ITEM_QTY: integer (nullable = true)\n",
      " |-- DOLLAR_AMT: double (nullable = true)\n",
      " |-- DIV_CD: integer (nullable = true)\n",
      " |-- BRAND_ID: string (nullable = true)\n",
      "\n"
     ]
    }
   ],
   "source": [
    "sdf.printSchema()"
   ]
  },
  {
   "cell_type": "code",
   "execution_count": 8,
   "metadata": {
    "collapsed": false
   },
   "outputs": [
    {
     "name": "stdout",
     "output_type": "stream",
     "text": [
      "+-------+--------------------+--------+------------------+-----------------+-------+--------+\n",
      "|summary|         CUSTOMER_ID|  UPC_ID|          ITEM_QTY|       DOLLAR_AMT| DIV_CD|BRAND_ID|\n",
      "+-------+--------------------+--------+------------------+-----------------+-------+--------+\n",
      "|  count|             9961346| 9961346|           9961346|          9961346|9961346| 9961346|\n",
      "|   mean|                null|    null|1.2708712256355716|96.00257169253813|    8.0|    null|\n",
      "| stddev|                null|    null|0.9931223994824471|118.5588148844263|    0.0|    null|\n",
      "|    min|0000036fb27b87150...|   UPC_1|                 0|         -1605.93|      8| BRAND_1|\n",
      "|    max|fffffe4d5084d9ed6...|UPC_9999|                99|         14514.22|      8|BRAND_99|\n",
      "+-------+--------------------+--------+------------------+-----------------+-------+--------+\n",
      "\n"
     ]
    }
   ],
   "source": [
    "sdf.describe().show()"
   ]
  },
  {
   "cell_type": "code",
   "execution_count": 6,
   "metadata": {
    "collapsed": true
   },
   "outputs": [],
   "source": [
    "sdf = sdf.withColumnRenamed('CUSTOMER_ID', 'customer_id')\n",
    "sdf = sdf.withColumnRenamed('UPC_ID', 'upc_id')\n",
    "sdf = sdf.withColumnRenamed('ITEM_QTY', 'quantity')\n",
    "sdf = sdf.withColumnRenamed('DOLLAR_AMT', 'dollar_amt')\n",
    "sdf = sdf.withColumnRenamed('DIV_CD', 'div_cd')\n",
    "sdf = sdf.withColumnRenamed('TRAN_DT', 'date')\n",
    "sdf = sdf.withColumnRenamed('BRAND_ID', 'brand_id')"
   ]
  },
  {
   "cell_type": "code",
   "execution_count": 7,
   "metadata": {
    "collapsed": false
   },
   "outputs": [
    {
     "name": "stdout",
     "output_type": "stream",
     "text": [
      "root\n",
      " |-- customer_id: string (nullable = true)\n",
      " |-- date: timestamp (nullable = true)\n",
      " |-- upc_id: string (nullable = true)\n",
      " |-- quantity: integer (nullable = true)\n",
      " |-- dollar_amt: double (nullable = true)\n",
      " |-- div_cd: integer (nullable = true)\n",
      " |-- brand_id: string (nullable = true)\n",
      "\n"
     ]
    }
   ],
   "source": [
    "sdf.printSchema()"
   ]
  },
  {
   "cell_type": "code",
   "execution_count": 8,
   "metadata": {
    "collapsed": false
   },
   "outputs": [],
   "source": [
    "from pyspark.sql.window import Window\n",
    "import pyspark.sql.functions as F\n",
    "sdf2 = sdf.withColumn(\"unique_customer_id\", F.dense_rank().over(Window.orderBy(sdf.customer_id)))"
   ]
  },
  {
   "cell_type": "code",
   "execution_count": 9,
   "metadata": {
    "collapsed": true
   },
   "outputs": [],
   "source": [
    "sdf3 = sdf2.withColumn(\"unique_product_id\", F.dense_rank().over(Window.orderBy(sdf.upc_id)))"
   ]
  },
  {
   "cell_type": "code",
   "execution_count": 10,
   "metadata": {
    "collapsed": false
   },
   "outputs": [
    {
     "name": "stdout",
     "output_type": "stream",
     "text": [
      "root\n",
      " |-- customer_id: string (nullable = true)\n",
      " |-- date: timestamp (nullable = true)\n",
      " |-- upc_id: string (nullable = true)\n",
      " |-- quantity: integer (nullable = true)\n",
      " |-- dollar_amt: double (nullable = true)\n",
      " |-- div_cd: integer (nullable = true)\n",
      " |-- brand_id: string (nullable = true)\n",
      " |-- unique_customer_id: integer (nullable = true)\n",
      "\n"
     ]
    }
   ],
   "source": [
    "sdf2.printSchema()"
   ]
  },
  {
   "cell_type": "code",
   "execution_count": 11,
   "metadata": {
    "collapsed": false
   },
   "outputs": [
    {
     "name": "stdout",
     "output_type": "stream",
     "text": [
      "root\n",
      " |-- customer_id: string (nullable = true)\n",
      " |-- date: timestamp (nullable = true)\n",
      " |-- upc_id: string (nullable = true)\n",
      " |-- quantity: integer (nullable = true)\n",
      " |-- dollar_amt: double (nullable = true)\n",
      " |-- div_cd: integer (nullable = true)\n",
      " |-- brand_id: string (nullable = true)\n",
      " |-- unique_customer_id: integer (nullable = true)\n",
      " |-- unique_product_id: integer (nullable = true)\n",
      "\n"
     ]
    }
   ],
   "source": [
    "sdf3.printSchema()"
   ]
  },
  {
   "cell_type": "code",
   "execution_count": 12,
   "metadata": {
    "collapsed": true
   },
   "outputs": [],
   "source": [
    "sdf4 = sdf3.withColumn(\"brand_id\", F.dense_rank().over(Window.orderBy(sdf.brand_id)))"
   ]
  },
  {
   "cell_type": "markdown",
   "metadata": {},
   "source": [
    "## Columns considered for Model Building"
   ]
  },
  {
   "cell_type": "code",
   "execution_count": 13,
   "metadata": {
    "collapsed": false
   },
   "outputs": [],
   "source": [
    "cols = ['unique_customer_id','unique_product_id','quantity','brand_id']\n",
    "sdf5 = sdf4.select(*cols)"
   ]
  },
  {
   "cell_type": "code",
   "execution_count": 14,
   "metadata": {
    "collapsed": false
   },
   "outputs": [
    {
     "name": "stdout",
     "output_type": "stream",
     "text": [
      "root\n",
      " |-- unique_customer_id: integer (nullable = true)\n",
      " |-- unique_product_id: integer (nullable = true)\n",
      " |-- quantity: integer (nullable = true)\n",
      " |-- brand_id: integer (nullable = true)\n",
      "\n"
     ]
    }
   ],
   "source": [
    "sdf5.printSchema()"
   ]
  },
  {
   "cell_type": "code",
   "execution_count": 11,
   "metadata": {
    "collapsed": false
   },
   "outputs": [],
   "source": [
    "single_user1 = sdf5.filter(sdf5['unique_customer_id']==393020).select(['unique_product_id','quantity', 'brand_id'])"
   ]
  },
  {
   "cell_type": "code",
   "execution_count": 21,
   "metadata": {
    "collapsed": false
   },
   "outputs": [
    {
     "name": "stdout",
     "output_type": "stream",
     "text": [
      "+-----------------+--------+--------+\n",
      "|unique_product_id|quantity|brand_id|\n",
      "+-----------------+--------+--------+\n",
      "|            30135|       1|      80|\n",
      "|               59|       1|      80|\n",
      "|              103|       1|      80|\n",
      "|              115|       1|      80|\n",
      "|              148|       1|      80|\n",
      "|              481|       1|      80|\n",
      "|              936|       1|      80|\n",
      "|             6947|       1|      80|\n",
      "|             1625|       1|      80|\n",
      "|             7469|       1|      80|\n",
      "|             2359|       1|      80|\n",
      "|            34723|       1|      80|\n",
      "|             8068|       1|      96|\n",
      "|             8073|       1|      96|\n",
      "|            14435|       1|      96|\n",
      "|             8229|       1|      96|\n",
      "|            11259|       1|      96|\n",
      "|            11259|       1|      96|\n",
      "|            11314|       1|      96|\n",
      "|            11314|       1|      96|\n",
      "+-----------------+--------+--------+\n",
      "\n"
     ]
    }
   ],
   "source": [
    "single_user1.show()"
   ]
  },
  {
   "cell_type": "markdown",
   "metadata": {},
   "source": [
    "## Calculating Sparsity in the Dataset"
   ]
  },
  {
   "cell_type": "code",
   "execution_count": 18,
   "metadata": {
    "collapsed": true
   },
   "outputs": [],
   "source": [
    "numerator = sdf5.select(\"quantity\").count()"
   ]
  },
  {
   "cell_type": "markdown",
   "metadata": {},
   "source": [
    "## Total Count of Number of Unique Customers"
   ]
  },
  {
   "cell_type": "code",
   "execution_count": 19,
   "metadata": {
    "collapsed": false
   },
   "outputs": [
    {
     "data": {
      "text/plain": [
       "1810904"
      ]
     },
     "execution_count": 19,
     "metadata": {},
     "output_type": "execute_result"
    }
   ],
   "source": [
    "num_users = sdf5.select(\"unique_customer_id\").distinct().count()\n",
    "num_users"
   ]
  },
  {
   "cell_type": "markdown",
   "metadata": {},
   "source": [
    "## Total Count of Number of Unique Products"
   ]
  },
  {
   "cell_type": "code",
   "execution_count": 20,
   "metadata": {
    "collapsed": false
   },
   "outputs": [
    {
     "data": {
      "text/plain": [
       "35288"
      ]
     },
     "execution_count": 20,
     "metadata": {},
     "output_type": "execute_result"
    }
   ],
   "source": [
    "num_items = sdf5.select(\"unique_product_id\").distinct().count()\n",
    "num_items"
   ]
  },
  {
   "cell_type": "markdown",
   "metadata": {},
   "source": [
    "## Total Count of Number of Unique Brands"
   ]
  },
  {
   "cell_type": "code",
   "execution_count": 66,
   "metadata": {
    "collapsed": false
   },
   "outputs": [
    {
     "data": {
      "text/plain": [
       "147"
      ]
     },
     "execution_count": 66,
     "metadata": {},
     "output_type": "execute_result"
    }
   ],
   "source": [
    "num_brands = sdf5.select(\"brand_id\").distinct().count()\n",
    "num_brands"
   ]
  },
  {
   "cell_type": "code",
   "execution_count": 74,
   "metadata": {
    "collapsed": true
   },
   "outputs": [],
   "source": [
    "denominator1 = num_users * num_items"
   ]
  },
  {
   "cell_type": "code",
   "execution_count": 75,
   "metadata": {
    "collapsed": false
   },
   "outputs": [],
   "source": [
    "sparsity = (1.0 - (numerator *1.0)/denominator1)*100"
   ]
  },
  {
   "cell_type": "markdown",
   "metadata": {},
   "source": [
    "## Sparsity based on distinct Number of Products"
   ]
  },
  {
   "cell_type": "code",
   "execution_count": 76,
   "metadata": {
    "collapsed": false
   },
   "outputs": [
    {
     "name": "stdout",
     "output_type": "stream",
     "text": [
      "The Customer Data Set is  99.98% Sparse.\n"
     ]
    }
   ],
   "source": [
    "print(\"The Customer Data Set is \", \"%.2f\" % sparsity + \"% Sparse.\")"
   ]
  },
  {
   "cell_type": "code",
   "execution_count": 77,
   "metadata": {
    "collapsed": true
   },
   "outputs": [],
   "source": [
    "denominator2 = num_users * num_brands"
   ]
  },
  {
   "cell_type": "code",
   "execution_count": 78,
   "metadata": {
    "collapsed": true
   },
   "outputs": [],
   "source": [
    "sparsity = (1.0 - (numerator *1.0)/denominator2)*100"
   ]
  },
  {
   "cell_type": "markdown",
   "metadata": {},
   "source": [
    "## Sparsity based on distinct Number of Brands"
   ]
  },
  {
   "cell_type": "code",
   "execution_count": 79,
   "metadata": {
    "collapsed": false
   },
   "outputs": [
    {
     "name": "stdout",
     "output_type": "stream",
     "text": [
      "The Customer Data Set is  96.26% Sparse.\n"
     ]
    }
   ],
   "source": [
    "print(\"The Customer Data Set is \", \"%.2f\" % sparsity + \"% Sparse.\")"
   ]
  },
  {
   "cell_type": "code",
   "execution_count": 24,
   "metadata": {
    "collapsed": false
   },
   "outputs": [
    {
     "name": "stdout",
     "output_type": "stream",
     "text": [
      "+------------------+-----+\n",
      "|unique_customer_id|count|\n",
      "+------------------+-----+\n",
      "|            469001|99267|\n",
      "|            655913|91997|\n",
      "|            834345|28390|\n",
      "|           1533671|20940|\n",
      "|           1786597|18184|\n",
      "|            674614|11987|\n",
      "|           1012862| 6567|\n",
      "|           1595349| 4686|\n",
      "|              2902| 4472|\n",
      "|            460479| 4364|\n",
      "|           1181220| 4362|\n",
      "|           1642696| 4282|\n",
      "|           1399599| 4263|\n",
      "|            876688| 3463|\n",
      "|            828731| 3361|\n",
      "|            820853| 3297|\n",
      "|            813335| 3248|\n",
      "|            753233| 3110|\n",
      "|            417310| 2915|\n",
      "|           1698199| 2734|\n",
      "+------------------+-----+\n",
      "only showing top 20 rows\n",
      "\n"
     ]
    }
   ],
   "source": [
    "userId_ratings = sdf5.groupBy(\"unique_customer_id\").count().orderBy('count', ascending=False)\n",
    "userId_ratings.show()"
   ]
  },
  {
   "cell_type": "code",
   "execution_count": 25,
   "metadata": {
    "collapsed": false
   },
   "outputs": [],
   "source": [
    "product_id = sdf5.groupBy(\"unique_product_id\").count().orderBy('count', ascending=False)"
   ]
  },
  {
   "cell_type": "code",
   "execution_count": 26,
   "metadata": {
    "collapsed": false
   },
   "outputs": [],
   "source": [
    "brand_id = sdf5.groupBy(\"brand_id\").count().orderBy('count', ascending=False)"
   ]
  },
  {
   "cell_type": "markdown",
   "metadata": {},
   "source": [
    "### Building a Recommendation System Model using Alternating Least Squares Matrix Factorisation"
   ]
  },
  {
   "cell_type": "code",
   "execution_count": 15,
   "metadata": {
    "collapsed": true
   },
   "outputs": [],
   "source": [
    "from pyspark.ml.evaluation import RegressionEvaluator\n",
    "from pyspark.ml.recommendation import ALS\n",
    "from pyspark.ml.tuning import ParamGridBuilder, CrossValidator"
   ]
  },
  {
   "cell_type": "code",
   "execution_count": 16,
   "metadata": {
    "collapsed": true
   },
   "outputs": [],
   "source": [
    "(train, test) = sdf5.randomSplit([0.7, 0.3])"
   ]
  },
  {
   "cell_type": "code",
   "execution_count": 17,
   "metadata": {
    "collapsed": false
   },
   "outputs": [],
   "source": [
    "als = ALS(\n",
    "         userCol=\"unique_customer_id\", \n",
    "         itemCol=\"unique_product_id\",\n",
    "         ratingCol=\"quantity\", \n",
    "         nonnegative = True, \n",
    "         implicitPrefs = True,\n",
    "         coldStartStrategy=\"drop\"\n",
    ")"
   ]
  },
  {
   "cell_type": "code",
   "execution_count": 18,
   "metadata": {
    "collapsed": false
   },
   "outputs": [
    {
     "data": {
      "text/plain": [
       "pyspark.ml.recommendation.ALS"
      ]
     },
     "execution_count": 18,
     "metadata": {},
     "output_type": "execute_result"
    }
   ],
   "source": [
    "type(als)"
   ]
  },
  {
   "cell_type": "code",
   "execution_count": 19,
   "metadata": {
    "collapsed": false
   },
   "outputs": [
    {
     "name": "stdout",
     "output_type": "stream",
     "text": [
      "Num models to be tested:  1\n"
     ]
    }
   ],
   "source": [
    "from pyspark.ml.evaluation import RegressionEvaluator\n",
    "from pyspark.ml.tuning import ParamGridBuilder, CrossValidator\n",
    "\n",
    "# Add hyperparameters and their respective values to param_grid\n",
    "param_grid = ParamGridBuilder() \\\n",
    "            .addGrid(als.rank, [10]) \\\n",
    "            .addGrid(als.regParam, [.01]) \\\n",
    "            .build()\n",
    "            #             .addGrid(als.maxIter, [5, 50, 100, 200]) \\\n",
    "\n",
    "           \n",
    "# Define evaluator as RMSE and print length of evaluator\n",
    "evaluator = RegressionEvaluator(metricName=\"rmse\", labelCol=\"quantity\", predictionCol=\"prediction\") \n",
    "print (\"Num models to be tested: \", len(param_grid))"
   ]
  },
  {
   "cell_type": "code",
   "execution_count": 20,
   "metadata": {
    "collapsed": true
   },
   "outputs": [],
   "source": [
    "cv = CrossValidator(estimator=als, estimatorParamMaps=param_grid, evaluator=evaluator, numFolds=2)"
   ]
  },
  {
   "cell_type": "code",
   "execution_count": 21,
   "metadata": {
    "collapsed": false
   },
   "outputs": [],
   "source": [
    "model = cv.fit(train)"
   ]
  },
  {
   "cell_type": "code",
   "execution_count": 24,
   "metadata": {
    "collapsed": true
   },
   "outputs": [],
   "source": [
    "best_model.save(\"C:/Users/uttas/Desktop/Resume/HBCALSModel4\")"
   ]
  },
  {
   "cell_type": "code",
   "execution_count": 22,
   "metadata": {
    "collapsed": true
   },
   "outputs": [],
   "source": [
    "best_model = model.bestModel"
   ]
  },
  {
   "cell_type": "code",
   "execution_count": 25,
   "metadata": {
    "collapsed": false
   },
   "outputs": [
    {
     "name": "stdout",
     "output_type": "stream",
     "text": [
      "<class 'pyspark.ml.recommendation.ALSModel'>\n",
      "**Best Model**\n",
      "  Rank: 10\n",
      "  MaxIter: 10\n",
      "  RegParam: 0.01\n"
     ]
    }
   ],
   "source": [
    "# Print best_model\n",
    "print(type(best_model))\n",
    "\n",
    "# Complete the code below to extract the ALS model parameters\n",
    "print(\"**Best Model**\")\n",
    "\n",
    "# # Print \"Rank\"\n",
    "print(\"  Rank:\", best_model._java_obj.parent().getRank())\n",
    "\n",
    "# Print \"MaxIter\"\n",
    "print(\"  MaxIter:\", best_model._java_obj.parent().getMaxIter())\n",
    "\n",
    "# Print \"RegParam\"\n",
    "print(\"  RegParam:\", best_model._java_obj.parent().getRegParam())"
   ]
  },
  {
   "cell_type": "code",
   "execution_count": 26,
   "metadata": {
    "collapsed": false
   },
   "outputs": [
    {
     "name": "stdout",
     "output_type": "stream",
     "text": [
      "1.5060928088855827\n"
     ]
    }
   ],
   "source": [
    "test_predictions = best_model.transform(test)\n",
    "RMSE = evaluator.evaluate(test_predictions)\n",
    "print(RMSE)"
   ]
  },
  {
   "cell_type": "code",
   "execution_count": 34,
   "metadata": {
    "collapsed": false
   },
   "outputs": [
    {
     "name": "stdout",
     "output_type": "stream",
     "text": [
      "+------------------+-----------------+--------+--------+----------+\n",
      "|unique_customer_id|unique_product_id|quantity|brand_id|prediction|\n",
      "+------------------+-----------------+--------+--------+----------+\n",
      "|            393020|              148|       1|      80| 0.8266336|\n",
      "|            393060|              148|       1|      80|0.73733413|\n",
      "|           1610972|              148|       1|      80|0.27114624|\n",
      "|           1372880|              148|       1|      80| 0.6400181|\n",
      "|           1719253|              148|       1|      80|0.93658596|\n",
      "|           1685043|              148|       1|      80| 0.9255763|\n",
      "|           1630673|              148|       1|      80|0.12159253|\n",
      "|           1712577|              148|       1|      80| 0.9462562|\n",
      "|            254825|              148|       3|      80| 3.1893854|\n",
      "|            972175|              148|       1|      80| 0.9345626|\n",
      "|            210582|              148|       1|      80|0.25051877|\n",
      "|           1697454|              148|       1|      80| 1.4542853|\n",
      "|            615297|              148|       2|      80| 0.7942084|\n",
      "|           1620730|              148|       1|      80| 0.7633205|\n",
      "|           1203138|              148|       1|      80| 2.1868024|\n",
      "|           1709368|              148|       1|      80| 0.8586528|\n",
      "|             42771|              148|       1|      80|0.89005893|\n",
      "|           1333359|              148|       1|      80| 1.0085557|\n",
      "|            959191|              148|       1|      80| 0.9260867|\n",
      "|            127708|              148|       1|      80| 0.9762648|\n",
      "+------------------+-----------------+--------+--------+----------+\n",
      "only showing top 20 rows\n",
      "\n"
     ]
    }
   ],
   "source": [
    "test_predictions.show()"
   ]
  },
  {
   "cell_type": "code",
   "execution_count": 37,
   "metadata": {
    "collapsed": true
   },
   "outputs": [],
   "source": [
    "single_user = test_predictions.filter(test_predictions['unique_customer_id']==393020).select(['unique_product_id','quantity', 'prediction'])"
   ]
  },
  {
   "cell_type": "code",
   "execution_count": 36,
   "metadata": {
    "collapsed": false
   },
   "outputs": [
    {
     "name": "stdout",
     "output_type": "stream",
     "text": [
      "+-----------------+--------+----------+\n",
      "|unique_product_id|quantity|prediction|\n",
      "+-----------------+--------+----------+\n",
      "|              148|       1| 0.8266336|\n",
      "|              103|       1| 0.7863437|\n",
      "|            11314|       1| 0.9570022|\n",
      "|               59|       1| 0.8558659|\n",
      "|             8073|       1|0.78083205|\n",
      "|             2359|       1| 0.8254836|\n",
      "|            34723|       1| 1.0496634|\n",
      "+-----------------+--------+----------+\n",
      "\n"
     ]
    }
   ],
   "source": [
    "single_user.show()"
   ]
  },
  {
   "cell_type": "code",
   "execution_count": 38,
   "metadata": {
    "collapsed": true
   },
   "outputs": [],
   "source": [
    "single_user2 = test.filter(test['unique_customer_id']==393020).select(['unique_product_id','quantity'])"
   ]
  },
  {
   "cell_type": "code",
   "execution_count": 25,
   "metadata": {
    "collapsed": false
   },
   "outputs": [],
   "source": [
    "nrecommendations = best_model.recommendForAllUsers(10)"
   ]
  },
  {
   "cell_type": "code",
   "execution_count": null,
   "metadata": {
    "collapsed": false
   },
   "outputs": [],
   "source": [
    "from pyspark.sql.functions import col, explode\n",
    "nrecommendations = nrecommendations\\\n",
    "    .withColumn(\"rec_exp\", explode(\"recommendations\"))\\\n",
    "    .select('unique_customer_id', col(\"rec_exp.unique_product_id\"), col(\"rec_exp.rating\"))\n",
    "    \n",
    "nrecommendations.limit(10).show()"
   ]
  },
  {
   "cell_type": "code",
   "execution_count": null,
   "metadata": {
    "collapsed": false
   },
   "outputs": [],
   "source": [
    "type(nrecommendations)"
   ]
  },
  {
   "cell_type": "code",
   "execution_count": null,
   "metadata": {
    "collapsed": true
   },
   "outputs": [],
   "source": [
    "nrecommendations_unique.show()"
   ]
  },
  {
   "cell_type": "code",
   "execution_count": 41,
   "metadata": {
    "collapsed": true
   },
   "outputs": [],
   "source": [
    "nrecommendations_393020 = nrecommendations.filter(nrecommendations['unique_customer_id']==393020).select(['unique_product_id','rating'])"
   ]
  },
  {
   "cell_type": "code",
   "execution_count": 42,
   "metadata": {
    "collapsed": false
   },
   "outputs": [
    {
     "name": "stdout",
     "output_type": "stream",
     "text": [
      "+-----------------+---------+\n",
      "|unique_product_id|   rating|\n",
      "+-----------------+---------+\n",
      "|             4082|11.473021|\n",
      "|             4589|11.318115|\n",
      "|             4024|10.535624|\n",
      "|              584|7.7321053|\n",
      "|            14572| 6.967832|\n",
      "|            14004| 6.778577|\n",
      "|            11725|5.9410577|\n",
      "|             5538| 5.891152|\n",
      "|            19023|5.7766814|\n",
      "|             7187| 5.708955|\n",
      "+-----------------+---------+\n",
      "\n"
     ]
    }
   ],
   "source": [
    "nrecommendations_393020.show()"
   ]
  },
  {
   "cell_type": "code",
   "execution_count": 44,
   "metadata": {
    "collapsed": false
   },
   "outputs": [],
   "source": [
    "trained_393020 = train.filter(train['unique_customer_id']==393020).select(['unique_product_id','quantity'])"
   ]
  },
  {
   "cell_type": "code",
   "execution_count": 45,
   "metadata": {
    "collapsed": false
   },
   "outputs": [
    {
     "name": "stdout",
     "output_type": "stream",
     "text": [
      "+-----------------+--------+\n",
      "|unique_product_id|quantity|\n",
      "+-----------------+--------+\n",
      "|               59|       1|\n",
      "|              103|       1|\n",
      "|              115|       1|\n",
      "|              481|       1|\n",
      "|              936|       1|\n",
      "|             1625|       1|\n",
      "|             2359|       1|\n",
      "|             8073|       1|\n",
      "|             8229|       1|\n",
      "|            11259|       1|\n",
      "|            11314|       1|\n",
      "|            11314|       1|\n",
      "|            14435|       1|\n",
      "|            30135|       1|\n",
      "|            34723|       1|\n",
      "+-----------------+--------+\n",
      "\n"
     ]
    }
   ],
   "source": [
    "trained_393020.show()"
   ]
  },
  {
   "cell_type": "code",
   "execution_count": 49,
   "metadata": {
    "collapsed": true
   },
   "outputs": [],
   "source": [
    "test_393020 = test.filter(test['unique_customer_id']==393020).select(['unique_product_id','quantity'])"
   ]
  },
  {
   "cell_type": "code",
   "execution_count": 50,
   "metadata": {
    "collapsed": false
   },
   "outputs": [
    {
     "name": "stdout",
     "output_type": "stream",
     "text": [
      "+-----------------+--------+\n",
      "|unique_product_id|quantity|\n",
      "+-----------------+--------+\n",
      "|              148|       1|\n",
      "|             6947|       1|\n",
      "|             7469|       1|\n",
      "|             8068|       1|\n",
      "|            11259|       1|\n",
      "+-----------------+--------+\n",
      "\n"
     ]
    }
   ],
   "source": [
    "test_393020.show()"
   ]
  },
  {
   "cell_type": "code",
   "execution_count": 56,
   "metadata": {
    "collapsed": true
   },
   "outputs": [],
   "source": [
    "test_prediction_393020 = test_predictions.filter(test_predictions['unique_customer_id']==393020).select(['unique_product_id','quantity','prediction'])"
   ]
  },
  {
   "cell_type": "code",
   "execution_count": 57,
   "metadata": {
    "collapsed": false
   },
   "outputs": [
    {
     "name": "stdout",
     "output_type": "stream",
     "text": [
      "+-----------------+--------+----------+\n",
      "|unique_product_id|quantity|prediction|\n",
      "+-----------------+--------+----------+\n",
      "|              148|       1| 0.9285966|\n",
      "|            11259|       1| 1.0873121|\n",
      "|             8068|       1|0.87903464|\n",
      "|             6947|       1| 1.1971238|\n",
      "|             7469|       1|  1.128898|\n",
      "+-----------------+--------+----------+\n",
      "\n"
     ]
    }
   ],
   "source": [
    "test_prediction_393020.show()"
   ]
  },
  {
   "cell_type": "code",
   "execution_count": null,
   "metadata": {
    "collapsed": true
   },
   "outputs": [],
   "source": [
    "nrecommendations"
   ]
  },
  {
   "cell_type": "code",
   "execution_count": 55,
   "metadata": {
    "collapsed": false
   },
   "outputs": [],
   "source": [
    "from pyspark.mllib.recommendation import ALS, MatrixFactorizationModel, Rating\n",
    "\n",
    "model.save(\"C:/Users/uttas/Desktop/Resume/HBCALSModel\")"
   ]
  },
  {
   "cell_type": "code",
   "execution_count": 24,
   "metadata": {
    "collapsed": false
   },
   "outputs": [
    {
     "data": {
      "text/plain": [
       "pyspark.ml.tuning.CrossValidatorModel"
      ]
     },
     "execution_count": 24,
     "metadata": {},
     "output_type": "execute_result"
    }
   ],
   "source": [
    "type(model)"
   ]
  },
  {
   "cell_type": "code",
   "execution_count": 22,
   "metadata": {
    "collapsed": true
   },
   "outputs": [],
   "source": [
    "best_model.save(\"C:/Users/uttas/Desktop/Resume/HBCALSModel2\")"
   ]
  },
  {
   "cell_type": "code",
   "execution_count": 23,
   "metadata": {
    "collapsed": false
   },
   "outputs": [
    {
     "data": {
      "text/plain": [
       "pyspark.ml.recommendation.ALSModel"
      ]
     },
     "execution_count": 23,
     "metadata": {},
     "output_type": "execute_result"
    }
   ],
   "source": [
    "type(best_model)"
   ]
  },
  {
   "cell_type": "code",
   "execution_count": 21,
   "metadata": {
    "collapsed": false
   },
   "outputs": [],
   "source": [
    "from pyspark.ml.tuning import ParamGridBuilder, CrossValidator,CrossValidatorModel"
   ]
  },
  {
   "cell_type": "code",
   "execution_count": 64,
   "metadata": {
    "collapsed": true
   },
   "outputs": [],
   "source": [
    "sameModel = CrossValidatorModel.load(\"C:/Users/uttas/Desktop/Resume/HBCALSModel\")"
   ]
  },
  {
   "cell_type": "code",
   "execution_count": null,
   "metadata": {
    "collapsed": true
   },
   "outputs": [],
   "source": []
  },
  {
   "cell_type": "code",
   "execution_count": 65,
   "metadata": {
    "collapsed": false
   },
   "outputs": [
    {
     "data": {
      "text/plain": [
       "pyspark.ml.tuning.CrossValidatorModel"
      ]
     },
     "execution_count": 65,
     "metadata": {},
     "output_type": "execute_result"
    }
   ],
   "source": [
    "type(sameModel)"
   ]
  },
  {
   "cell_type": "code",
   "execution_count": null,
   "metadata": {
    "collapsed": true
   },
   "outputs": [],
   "source": []
  }
 ],
 "metadata": {
  "anaconda-cloud": {},
  "kernelspec": {
   "display_name": "Python [default]",
   "language": "python",
   "name": "python3"
  },
  "language_info": {
   "codemirror_mode": {
    "name": "ipython",
    "version": 3
   },
   "file_extension": ".py",
   "mimetype": "text/x-python",
   "name": "python",
   "nbconvert_exporter": "python",
   "pygments_lexer": "ipython3",
   "version": "3.5.6"
  }
 },
 "nbformat": 4,
 "nbformat_minor": 1
}
