{
 "cells": [
  {
   "cell_type": "code",
   "execution_count": 2,
   "metadata": {
    "collapsed": false
   },
   "outputs": [],
   "source": [
    "from pyspark.ml.tuning import ParamGridBuilder, CrossValidator,CrossValidatorModel\n",
    "from pyspark.ml.recommendation import ALS, ALSModel"
   ]
  },
  {
   "cell_type": "code",
   "execution_count": 3,
   "metadata": {
    "collapsed": true
   },
   "outputs": [],
   "source": [
    "import pyspark\n",
    "from pyspark import SparkContext\n",
    "from pyspark.sql import SparkSession\n",
    "from pyspark.sql import SQLContext"
   ]
  },
  {
   "cell_type": "code",
   "execution_count": 3,
   "metadata": {
    "collapsed": false
   },
   "outputs": [],
   "source": [
    "sameModel = ALSModel.load(\"C:/Users/uttas/Desktop/Resume/HBCALSModel2\")"
   ]
  },
  {
   "cell_type": "code",
   "execution_count": 4,
   "metadata": {
    "collapsed": false
   },
   "outputs": [],
   "source": [
    "sameModel = ALSModel.load(\"C:/Users/uttas/Desktop/Resume/HBCALSModel4\")"
   ]
  },
  {
   "cell_type": "code",
   "execution_count": 5,
   "metadata": {
    "collapsed": false
   },
   "outputs": [
    {
     "data": {
      "text/plain": [
       "pyspark.ml.recommendation.ALSModel"
      ]
     },
     "execution_count": 5,
     "metadata": {},
     "output_type": "execute_result"
    }
   ],
   "source": [
    "type(sameModel)"
   ]
  },
  {
   "cell_type": "code",
   "execution_count": 6,
   "metadata": {
    "collapsed": true
   },
   "outputs": [],
   "source": [
    "file_path = 'C:/Users/uttas/Desktop/Resume/HBC/Customer_Tran_Sample.csv'"
   ]
  },
  {
   "cell_type": "code",
   "execution_count": 7,
   "metadata": {
    "collapsed": true
   },
   "outputs": [],
   "source": [
    "sdf = spark.read.csv(file_path, header=True, inferSchema=True)"
   ]
  },
  {
   "cell_type": "code",
   "execution_count": 8,
   "metadata": {
    "collapsed": true
   },
   "outputs": [],
   "source": [
    "sdf = sdf.withColumnRenamed('CUSTOMER_ID', 'customer_id')\n",
    "sdf = sdf.withColumnRenamed('UPC_ID', 'upc_id')\n",
    "sdf = sdf.withColumnRenamed('ITEM_QTY', 'quantity')\n",
    "sdf = sdf.withColumnRenamed('DOLLAR_AMT', 'dollar_amt')\n",
    "sdf = sdf.withColumnRenamed('DIV_CD', 'div_cd')\n",
    "sdf = sdf.withColumnRenamed('TRAN_DT', 'date')\n",
    "sdf = sdf.withColumnRenamed('BRAND_ID', 'brand_id')"
   ]
  },
  {
   "cell_type": "code",
   "execution_count": 9,
   "metadata": {
    "collapsed": true
   },
   "outputs": [],
   "source": [
    "from pyspark.sql.window import Window\n",
    "import pyspark.sql.functions as F\n",
    "sdf2 = sdf.withColumn(\"unique_customer_id\", F.dense_rank().over(Window.orderBy(sdf.customer_id)))"
   ]
  },
  {
   "cell_type": "code",
   "execution_count": 10,
   "metadata": {
    "collapsed": false
   },
   "outputs": [],
   "source": [
    "sdf3 = sdf2.withColumn(\"unique_product_id\", F.dense_rank().over(Window.orderBy(sdf.upc_id)))"
   ]
  },
  {
   "cell_type": "code",
   "execution_count": 11,
   "metadata": {
    "collapsed": true
   },
   "outputs": [],
   "source": [
    "sdf4 = sdf3.withColumn(\"brand_id\", F.dense_rank().over(Window.orderBy(sdf.brand_id)))"
   ]
  },
  {
   "cell_type": "code",
   "execution_count": 12,
   "metadata": {
    "collapsed": true
   },
   "outputs": [],
   "source": [
    "cols = ['unique_customer_id','unique_product_id','quantity','brand_id']\n",
    "sdf5 = sdf4.select(*cols)"
   ]
  },
  {
   "cell_type": "code",
   "execution_count": 13,
   "metadata": {
    "collapsed": true
   },
   "outputs": [],
   "source": [
    "(train, test) = sdf5.randomSplit([0.7, 0.3])"
   ]
  },
  {
   "cell_type": "code",
   "execution_count": 38,
   "metadata": {
    "collapsed": false
   },
   "outputs": [],
   "source": [
    "brand_1 = sdf5.filter(sdf5['unique_product_id']==22214).select(['brand_id'])"
   ]
  },
  {
   "cell_type": "code",
   "execution_count": 39,
   "metadata": {
    "collapsed": false
   },
   "outputs": [
    {
     "name": "stdout",
     "output_type": "stream",
     "text": [
      "+--------+\n",
      "|brand_id|\n",
      "+--------+\n",
      "|     107|\n",
      "|     107|\n",
      "|     107|\n",
      "|     107|\n",
      "|     107|\n",
      "|     107|\n",
      "|     107|\n",
      "|     107|\n",
      "|     107|\n",
      "|     107|\n",
      "|     107|\n",
      "|     107|\n",
      "|     107|\n",
      "|     107|\n",
      "|     107|\n",
      "|     107|\n",
      "|     107|\n",
      "|     107|\n",
      "|     107|\n",
      "|     107|\n",
      "+--------+\n",
      "only showing top 20 rows\n",
      "\n"
     ]
    }
   ],
   "source": [
    "brand_1.show()"
   ]
  },
  {
   "cell_type": "code",
   "execution_count": 40,
   "metadata": {
    "collapsed": false
   },
   "outputs": [],
   "source": [
    "brand_2 = sdf5.filter(test['unique_product_id']==16353).select(['brand_id'])"
   ]
  },
  {
   "cell_type": "code",
   "execution_count": 41,
   "metadata": {
    "collapsed": false
   },
   "outputs": [
    {
     "name": "stdout",
     "output_type": "stream",
     "text": [
      "+--------+\n",
      "|brand_id|\n",
      "+--------+\n",
      "|     107|\n",
      "|     107|\n",
      "|     107|\n",
      "|     107|\n",
      "|     107|\n",
      "|     107|\n",
      "|     107|\n",
      "|     107|\n",
      "|     107|\n",
      "|     107|\n",
      "|     107|\n",
      "|     107|\n",
      "|     107|\n",
      "|     107|\n",
      "|     107|\n",
      "|     107|\n",
      "|     107|\n",
      "|     107|\n",
      "|     107|\n",
      "|     107|\n",
      "+--------+\n",
      "only showing top 20 rows\n",
      "\n"
     ]
    }
   ],
   "source": [
    "brand_2.show()"
   ]
  },
  {
   "cell_type": "code",
   "execution_count": 14,
   "metadata": {
    "collapsed": true
   },
   "outputs": [],
   "source": [
    "test_predictions = sameModel.transform(test)"
   ]
  },
  {
   "cell_type": "code",
   "execution_count": 15,
   "metadata": {
    "collapsed": false
   },
   "outputs": [
    {
     "name": "stdout",
     "output_type": "stream",
     "text": [
      "+------------------+-----------------+--------+--------+------------+\n",
      "|unique_customer_id|unique_product_id|quantity|brand_id|  prediction|\n",
      "+------------------+-----------------+--------+--------+------------+\n",
      "|               148|            16987|       1|      75|5.4509757E-5|\n",
      "|               463|            31044|       1|     118|3.6671823E-5|\n",
      "|               471|              933|       1|     132|  0.03735495|\n",
      "|               471|             4893|       1|     129|2.0741501E-4|\n",
      "|               471|             6108|       1|     129|1.7203266E-6|\n",
      "|               471|             6120|       1|     129|5.0555172E-6|\n",
      "|               471|            19890|       1|     142|1.2736322E-4|\n",
      "|              1088|              215|       2|     123|  0.14126737|\n",
      "|              1238|             5715|       1|     147|3.2938927E-4|\n",
      "|              1580|             7005|       1|      94| 3.685258E-6|\n",
      "|              1580|             7005|       1|      94| 3.685258E-6|\n",
      "|              1591|              895|       1|     132| 2.836361E-4|\n",
      "|              1591|            18434|       1|     107| 0.053155955|\n",
      "|              1591|            21227|       1|     107| 0.016355073|\n",
      "|              1591|            21577|       1|     107|  0.04728889|\n",
      "|              1591|            22213|       1|     107| 0.008283107|\n",
      "|              1591|            22214|       1|     107|  0.00707108|\n",
      "|              1829|             7777|       1|      96| 9.179214E-5|\n",
      "|              1959|            16495|       1|      75|6.9962494E-4|\n",
      "|              1959|            16770|       1|      75|0.0051088203|\n",
      "+------------------+-----------------+--------+--------+------------+\n",
      "only showing top 20 rows\n",
      "\n"
     ]
    }
   ],
   "source": [
    "test_predictions.show()"
   ]
  },
  {
   "cell_type": "code",
   "execution_count": 16,
   "metadata": {
    "collapsed": false
   },
   "outputs": [],
   "source": [
    "nrecommendations = sameModel.recommendForAllUsers(5)"
   ]
  },
  {
   "cell_type": "code",
   "execution_count": 17,
   "metadata": {
    "collapsed": false
   },
   "outputs": [
    {
     "name": "stdout",
     "output_type": "stream",
     "text": [
      "+------------------+-----------------+\n",
      "|unique_customer_id|unique_product_id|\n",
      "+------------------+-----------------+\n",
      "|               148|            13035|\n",
      "|               148|            18436|\n",
      "|               148|            16353|\n",
      "|               148|            16893|\n",
      "|               148|            21152|\n",
      "|               463|            24226|\n",
      "|               463|            11138|\n",
      "|               463|            24749|\n",
      "|               463|            24295|\n",
      "|               463|            11069|\n",
      "+------------------+-----------------+\n",
      "\n"
     ]
    }
   ],
   "source": [
    "from pyspark.sql.functions import col, explode\n",
    "nrecommendations = nrecommendations\\\n",
    "    .withColumn(\"rec_exp\", explode(\"recommendations\"))\\\n",
    "    .select('unique_customer_id', col(\"rec_exp.unique_product_id\"))\n",
    "    \n",
    "nrecommendations.limit(10).show()"
   ]
  },
  {
   "cell_type": "code",
   "execution_count": 18,
   "metadata": {
    "collapsed": false
   },
   "outputs": [],
   "source": [
    "nrecommendations_1591 = nrecommendations.filter(nrecommendations['unique_customer_id']==1591).select(['unique_product_id'])"
   ]
  },
  {
   "cell_type": "code",
   "execution_count": 19,
   "metadata": {
    "collapsed": false
   },
   "outputs": [
    {
     "name": "stdout",
     "output_type": "stream",
     "text": [
      "+-----------------+\n",
      "|unique_product_id|\n",
      "+-----------------+\n",
      "|            13035|\n",
      "|            18436|\n",
      "|            16353|\n",
      "|            21152|\n",
      "|            16893|\n",
      "+-----------------+\n",
      "\n"
     ]
    }
   ],
   "source": [
    "nrecommendations_1591.show()"
   ]
  },
  {
   "cell_type": "code",
   "execution_count": 20,
   "metadata": {
    "collapsed": true
   },
   "outputs": [],
   "source": [
    "test_1591 = test.filter(test['unique_customer_id']==1591).select(['unique_product_id','quantity'])"
   ]
  },
  {
   "cell_type": "code",
   "execution_count": 21,
   "metadata": {
    "collapsed": false
   },
   "outputs": [
    {
     "name": "stdout",
     "output_type": "stream",
     "text": [
      "+-----------------+--------+\n",
      "|unique_product_id|quantity|\n",
      "+-----------------+--------+\n",
      "|              895|       1|\n",
      "|            18434|       1|\n",
      "|            21227|       1|\n",
      "|            21577|       1|\n",
      "|            22213|       1|\n",
      "|            22214|       1|\n",
      "+-----------------+--------+\n",
      "\n"
     ]
    }
   ],
   "source": [
    "test_1591.show()"
   ]
  },
  {
   "cell_type": "code",
   "execution_count": null,
   "metadata": {
    "collapsed": true
   },
   "outputs": [],
   "source": []
  }
 ],
 "metadata": {
  "anaconda-cloud": {},
  "kernelspec": {
   "display_name": "Python [default]",
   "language": "python",
   "name": "python3"
  },
  "language_info": {
   "codemirror_mode": {
    "name": "ipython",
    "version": 3
   },
   "file_extension": ".py",
   "mimetype": "text/x-python",
   "name": "python",
   "nbconvert_exporter": "python",
   "pygments_lexer": "ipython3",
   "version": "3.5.6"
  }
 },
 "nbformat": 4,
 "nbformat_minor": 1
}
